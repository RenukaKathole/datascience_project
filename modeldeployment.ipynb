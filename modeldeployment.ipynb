{
  "nbformat": 4,
  "nbformat_minor": 0,
  "metadata": {
    "colab": {
      "provenance": []
    },
    "kernelspec": {
      "name": "python3",
      "display_name": "Python 3"
    },
    "language_info": {
      "name": "python"
    }
  },
  "cells": [
    {
      "cell_type": "code",
      "execution_count": 2,
      "metadata": {
        "id": "OpX4kVfqOl5X"
      },
      "outputs": [],
      "source": [
        "# model_training.ipynb\n",
        "import pandas as pd\n",
        "from sklearn.model_selection import train_test_split\n",
        "from sklearn.svm import SVC\n",
        "from sklearn.ensemble import RandomForestClassifier\n",
        "from sklearn.linear_model import LogisticRegression\n",
        "from sklearn.preprocessing import LabelEncoder\n",
        "from sklearn.metrics import accuracy_score\n",
        "import joblib\n",
        "\n"
      ]
    },
    {
      "cell_type": "code",
      "source": [
        "# Load dataset\n",
        "df = pd.read_csv(\"/content/pronostico_dataset (1) (1).csv\", delimiter=\";\")"
      ],
      "metadata": {
        "id": "7OGpZ1FMOzW0"
      },
      "execution_count": 3,
      "outputs": []
    },
    {
      "cell_type": "code",
      "source": [
        "# Features & target\n",
        "X = df[['age', 'systolic_bp', 'diastolic_bp', 'cholesterol']]\n",
        "y = df['prognosis']"
      ],
      "metadata": {
        "id": "PpMgBHi-O0Un"
      },
      "execution_count": 4,
      "outputs": []
    },
    {
      "cell_type": "code",
      "source": [
        "# Encode target\n",
        "label_encoder = LabelEncoder()\n",
        "y_encoded = label_encoder.fit_transform(y)\n"
      ],
      "metadata": {
        "id": "owfVbHdrO3zE"
      },
      "execution_count": 5,
      "outputs": []
    },
    {
      "cell_type": "code",
      "source": [
        "# Train/test split\n",
        "X_train, X_test, y_train, y_test = train_test_split(\n",
        "    X, y_encoded, test_size=0.2, random_state=42\n",
        ")"
      ],
      "metadata": {
        "id": "6AKsEpKCO65j"
      },
      "execution_count": 6,
      "outputs": []
    },
    {
      "cell_type": "code",
      "source": [
        "# Initialize models\n",
        "models = {\n",
        "    \"SVM\": SVC(kernel='rbf', probability=True, random_state=42),\n",
        "    \"RandomForest\": RandomForestClassifier(n_estimators=100, random_state=42),\n",
        "    \"LogisticRegression\": LogisticRegression(max_iter=1000, random_state=42)\n",
        "}"
      ],
      "metadata": {
        "id": "HDiNs9VFO-Jh"
      },
      "execution_count": 7,
      "outputs": []
    },
    {
      "cell_type": "code",
      "source": [
        "# Dictionary to store accuracies\n",
        "model_scores = {}"
      ],
      "metadata": {
        "id": "bv3srGGaPF9k"
      },
      "execution_count": 8,
      "outputs": []
    },
    {
      "cell_type": "code",
      "source": [
        "# Train, evaluate, and save models\n",
        "for name, model in models.items():\n",
        "    model.fit(X_train, y_train)\n",
        "    preds = model.predict(X_test)\n",
        "    acc = accuracy_score(y_test, preds)\n",
        "    model_scores[name] = acc\n",
        "    joblib.dump(model, f\"{name}_model.pkl\")\n"
      ],
      "metadata": {
        "id": "SCZkS-HMPLq1"
      },
      "execution_count": 9,
      "outputs": []
    },
    {
      "cell_type": "code",
      "source": [
        "# Save label encoder and model scores\n",
        "joblib.dump(label_encoder, \"label_encoder.pkl\")\n",
        "joblib.dump(model_scores, \"model_scores.pkl\")"
      ],
      "metadata": {
        "colab": {
          "base_uri": "https://localhost:8080/"
        },
        "id": "N49wMuPEPPEj",
        "outputId": "a9cf050d-60f5-4763-a661-e2ad255850f3"
      },
      "execution_count": 10,
      "outputs": [
        {
          "output_type": "execute_result",
          "data": {
            "text/plain": [
              "['model_scores.pkl']"
            ]
          },
          "metadata": {},
          "execution_count": 10
        }
      ]
    },
    {
      "cell_type": "code",
      "source": [
        "print(\"All models, label encoder, and scores saved successfully.\")\n",
        "print(\"Model Accuracies:\", model_scores)\n"
      ],
      "metadata": {
        "colab": {
          "base_uri": "https://localhost:8080/"
        },
        "id": "OZJQMhQgPS6S",
        "outputId": "4b11b3b7-dc75-40a3-93bc-932546469ced"
      },
      "execution_count": 11,
      "outputs": [
        {
          "output_type": "stream",
          "name": "stdout",
          "text": [
            "All models, label encoder, and scores saved successfully.\n",
            "Model Accuracies: {'SVM': 0.7533333333333333, 'RandomForest': 0.7366666666666667, 'LogisticRegression': 0.7466666666666667}\n"
          ]
        }
      ]
    }
  ]
}